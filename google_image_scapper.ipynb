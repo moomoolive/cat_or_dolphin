{
 "metadata": {
  "language_info": {
   "codemirror_mode": {
    "name": "ipython",
    "version": 3
   },
   "file_extension": ".py",
   "mimetype": "text/x-python",
   "name": "python",
   "nbconvert_exporter": "python",
   "pygments_lexer": "ipython3",
   "version": 3
  },
  "orig_nbformat": 2,
  "kernelspec": {
   "name": "python_defaultSpec_1596120904927",
   "display_name": "Python 3.8.5 64-bit"
  }
 },
 "nbformat": 4,
 "nbformat_minor": 2,
 "cells": [
  {
   "cell_type": "markdown",
   "metadata": {},
   "source": [
    "## Relevant Libraries\n",
    "\n",
    "An note here, to webscrape google images I'll be using selenium, because the Google Search Image page is dynamic."
   ]
  },
  {
   "cell_type": "code",
   "execution_count": 2,
   "metadata": {},
   "outputs": [],
   "source": [
    "import requests\n",
    "import hashlib\n",
    "import io\n",
    "import os\n",
    "from PIL import Image\n",
    "import time\n",
    "from selenium import webdriver"
   ]
  },
  {
   "cell_type": "markdown",
   "metadata": {},
   "source": [
    "### Helper Functions for fetching Google Image Urls\n",
    "\n",
    "This will make more sense after reading throught the rest of the code"
   ]
  },
  {
   "cell_type": "code",
   "execution_count": 3,
   "metadata": {},
   "outputs": [],
   "source": [
    "def initiate_selenium_and_search_google(web_driver_path, query:str):\n",
    "    WEB_DRIVER = webdriver.Chrome(executable_path=web_driver_path)\n",
    "    google_image_query= 'https://www.google.com/search?safe=off&site=&tbm=isch&source=hp&q={q}&oq={q}&gs_l=img'\n",
    "\n",
    "    WEB_DRIVER.get(google_image_query.format(q=query))\n",
    "\n",
    "    return WEB_DRIVER"
   ]
  },
  {
   "cell_type": "code",
   "execution_count": 4,
   "metadata": {},
   "outputs": [],
   "source": [
    "def scroll_to_bottom_of_page(web_driver, sleep_between_interaction):\n",
    "    web_driver.execute_script('window.scrollTo(0, document.body.scrollHeight);')\n",
    "    time.sleep(sleep_between_interaction)"
   ]
  },
  {
   "cell_type": "code",
   "execution_count": 5,
   "metadata": {},
   "outputs": [],
   "source": [
    "def click_load_more_button(web_driver):\n",
    "    load_more_button = web_driver.find_element_by_css_selector('.mye4qd')\n",
    "\n",
    "    if load_more_button:\n",
    "            web_driver.execute_script('document.querySelector(\".mye4qd\").click();') "
   ]
  },
  {
   "cell_type": "markdown",
   "metadata": {},
   "source": [
    "## Main Helper Functions"
   ]
  },
  {
   "cell_type": "markdown",
   "metadata": {},
   "source": [
    "### Fetch Image Urls From Google Search\n",
    "\n",
    "The top three helper functions helped make this function more readable and understandable"
   ]
  },
  {
   "cell_type": "code",
   "execution_count": 6,
   "metadata": {
    "tags": []
   },
   "outputs": [],
   "source": [
    "def fetch_google_images_urls(query:str, web_driver_path, sleep_between_interaction=1, number_of_images=100):\n",
    "\n",
    "    WEB_DRIVER = initiate_selenium_and_search_google(web_driver_path, query=query)\n",
    "\n",
    "    image_urls = set()\n",
    "    results_start = 0\n",
    "    number_results = 0\n",
    "\n",
    "    while number_results < number_of_images:\n",
    "        \n",
    "        scroll_to_bottom_of_page(\n",
    "            WEB_DRIVER, \n",
    "            sleep_between_interaction=sleep_between_interaction)\n",
    "\n",
    "        thumbnail_results = WEB_DRIVER.find_elements_by_css_selector('img.Q4LuWd')\n",
    "        number_results = len(thumbnail_results)\n",
    "        print(number_results)\n",
    "\n",
    "        click_load_more_button(WEB_DRIVER)\n",
    "\n",
    "    print(f'Found {number_results} search results.', end=' ') \n",
    "    print(f'Extracting links from {results_start} to {number_results}')\n",
    "\n",
    "    for image in thumbnail_results[results_start:number_results]:\n",
    "        try:\n",
    "            image.click()\n",
    "            time.sleep(sleep_between_interaction)\n",
    "        except Exception:\n",
    "            continue\n",
    "\n",
    "        actual_images = WEB_DRIVER.find_elements_by_css_selector('img.n3VNCb')\n",
    "        \n",
    "        for actual_image in actual_images:\n",
    "            if actual_image.get_attribute('src') and 'http' in actual_image.get_attribute('src'):\n",
    "                image_urls.add(actual_image.get_attribute('src'))\n",
    "        \n",
    "        if len(image_urls) >= number_of_images:\n",
    "            break\n",
    "\n",
    "    print('Extracted URLS from', len(image_urls), 'results')  \n",
    "\n",
    "    WEB_DRIVER.quit() \n",
    "\n",
    "    return image_urls"
   ]
  },
  {
   "cell_type": "markdown",
   "metadata": {},
   "source": [
    "### Take URLs of Google Images and download them"
   ]
  },
  {
   "cell_type": "code",
   "execution_count": 7,
   "metadata": {},
   "outputs": [],
   "source": [
    "def download_images(folder_path:str, url:str):\n",
    "    successfully_downloaded = 0\n",
    "    unsuccessfully_downloaded = 0\n",
    "\n",
    "    try:\n",
    "        image_content = requests.get(url).content\n",
    "\n",
    "    except Exception as e:\n",
    "        print(f'Error could not download {url} - {e}')\n",
    "\n",
    "    try:\n",
    "        image_file = io.BytesIO(image_content)\n",
    "        image = Image.open(image_file).convert('RGB')\n",
    "        file_path = os.path.join(folder_path, hashlib.sha1(image_content).hexdigest()[:10] + '.jpg')\n",
    "        with open(file_path, 'wb') as f:\n",
    "            image.save(f, 'JPEG', quality=85)\n",
    "        \n",
    "        print(f\"SUCCESS - saved {url} - as file {file_path}\")\n",
    "\n",
    "    except Exception as e:\n",
    "        print(f\"ERROR - couldn't save {url} - {e}\")\n"
   ]
  },
  {
   "cell_type": "markdown",
   "metadata": {},
   "source": [
    "# Putting It All together\n",
    "\n",
    "This function will take URLs from google images, download them, and put them in a folder that I specify"
   ]
  },
  {
   "cell_type": "code",
   "execution_count": 8,
   "metadata": {},
   "outputs": [],
   "source": [
    "def search_and_download_google_images(search_term:str, driver_path:str, target_path='./image', number_of_images=5):\n",
    "    \n",
    "    target_folder = os.path.join(target_path, '_'.join(search_term.lower().split(' ')))\n",
    "\n",
    "    if not os.path.exists(target_folder):\n",
    "        os.makedirs(target_folder)\n",
    "\n",
    "    list_of_urls = fetch_google_images_urls(\n",
    "        query=search_term, \n",
    "        web_driver_path=driver_path,\n",
    "        sleep_between_interaction=0.001,\n",
    "        number_of_images=number_of_images)\n",
    "\n",
    "    for url in list_of_urls:\n",
    "        download_images(target_folder, url)\n",
    "\n",
    "    print(len(os.listdir(target_folder)), 'pictures downloaded')"
   ]
  },
  {
   "cell_type": "markdown",
   "metadata": {},
   "source": [
    "## Now lets finally scrape some images\n",
    "\n",
    "Check your current directory and see if the images were scraped correctly"
   ]
  },
  {
   "cell_type": "markdown",
   "metadata": {},
   "source": [
    "You're going to need the a selenium Chrome driver to make these functions work"
   ]
  },
  {
   "cell_type": "code",
   "execution_count": 9,
   "metadata": {},
   "outputs": [],
   "source": [
    "DRIVER_PATH = r'C:/Users/Mostafa Elbannan/Desktop/Programming/Web_scraping/chromedriver'"
   ]
  },
  {
   "cell_type": "markdown",
   "metadata": {},
   "source": [
    "### Let's download some dolphin images"
   ]
  },
  {
   "cell_type": "code",
   "execution_count": 9,
   "metadata": {
    "tags": [
     "outputPrepend"
    ]
   },
   "outputs": [
    {
     "output_type": "stream",
     "name": "stdout",
     "text": "rlay-align=bottom%2Cleft&overlay-width=100p&overlay-base64=L2ltZy9zdGF0aWMvb3ZlcmxheXMvdGctZGVmYXVsdC5wbmc&enable=upscale&s=5cd7f8ca387971c0202d3b20cce38c93 - as file ./image\\dolphin\\d106c76fc0.jpg\nSUCCESS - saved https://encrypted-tbn0.gstatic.com/images?q=tbn%3AANd9GcT-JSZG_2rh_k4dELaQbjnCi0FDH0bJyc260A&usqp=CAU - as file ./image\\dolphin\\87bc09d6e4.jpg\nSUCCESS - saved https://images.theconversation.com/files/46930/original/8x6wnb39-1398261971.jpg?ixlib=rb-1.1.0&q=45&auto=format&w=1200&h=1200.0&fit=crop - as file ./image\\dolphin\\a2a4d7d5c4.jpg\nSUCCESS - saved https://encrypted-tbn0.gstatic.com/images?q=tbn%3AANd9GcQhJqdRhdzrLBiC6lDfTj-GMTya-YRPJZjGcw&usqp=CAU - as file ./image\\dolphin\\42a993f458.jpg\nSUCCESS - saved https://encrypted-tbn0.gstatic.com/images?q=tbn%3AANd9GcQhrGAfw26tpIrE6MrPuiDe0P7qPEUreIY-pQ&usqp=CAU - as file ./image\\dolphin\\e460ab1e21.jpg\nSUCCESS - saved https://fh-sites.imgix.net/sites/1580/2019/10/12072324/Common-Dolphin-0081_copyright-Dolphin-Safari.jpg?auto=compress%2Cformat&w=1000&h=1000&fit=max - as file ./image\\dolphin\\4c07435048.jpg\nSUCCESS - saved https://encrypted-tbn0.gstatic.com/images?q=tbn%3AANd9GcTVDoiCGxUjgdx51CpICrFnrveVoUf1TUuFbA&usqp=CAU - as file ./image\\dolphin\\4b7c868363.jpg\nSUCCESS - saved https://encrypted-tbn0.gstatic.com/images?q=tbn%3AANd9GcSw7sbbXIWdbmAA441sdBaIxARrq-BLSM7rkQ&usqp=CAU - as file ./image\\dolphin\\a6d7c89651.jpg\nSUCCESS - saved https://encrypted-tbn0.gstatic.com/images?q=tbn%3AANd9GcTrHqBz_N5VlA9QnyfYIOvc-xLJ_dL3eDoa8Q&usqp=CAU - as file ./image\\dolphin\\afdd98a855.jpg\nSUCCESS - saved https://encrypted-tbn0.gstatic.com/images?q=tbn%3AANd9GcQIOLpfdg7bXIT0M4dd8qJIDKfJJixZJhCj0Q&usqp=CAU - as file ./image\\dolphin\\e8a37aceb5.jpg\nSUCCESS - saved https://encrypted-tbn0.gstatic.com/images?q=tbn%3AANd9GcRSgwhFuHpwZL47myFCdbV_gWqJ3GiWCC9y3w&usqp=CAU - as file ./image\\dolphin\\ce2fab0fb0.jpg\nSUCCESS - saved https://encrypted-tbn0.gstatic.com/images?q=tbn%3AANd9GcSEKjVaZ6wU9qHCbFRpjvEzBreZathk_ghDQg&usqp=CAU - as file ./image\\dolphin\\5fee52f1d4.jpg\nSUCCESS - saved https://encrypted-tbn0.gstatic.com/images?q=tbn%3AANd9GcRJ9nNB7bo4M5mItXdedrZbeb3gIYr7-Gcryw&usqp=CAU - as file ./image\\dolphin\\38107b1aa8.jpg\nSUCCESS - saved https://encrypted-tbn0.gstatic.com/images?q=tbn%3AANd9GcScUPKyKyiamE5S-5q82j2DRiJSrhpauCCiZA&usqp=CAU - as file ./image\\dolphin\\5405f4b129.jpg\nSUCCESS - saved https://encrypted-tbn0.gstatic.com/images?q=tbn%3AANd9GcTdyPKpI7Yf9ew_pU3j0TbBFHR7xYph79BgYw&usqp=CAU - as file ./image\\dolphin\\6b0eb1a0ac.jpg\nSUCCESS - saved https://media.explore.org/stillframes/film-wilddolphins-ll-1568925303053.jpg - as file ./image\\dolphin\\20605447a4.jpg\nSUCCESS - saved https://encrypted-tbn0.gstatic.com/images?q=tbn%3AANd9GcQ_kDqRH-xpl0TKTLXuhxfy8AHg6wHETeOJvw&usqp=CAU - as file ./image\\dolphin\\af7ae00329.jpg\nSUCCESS - saved https://encrypted-tbn0.gstatic.com/images?q=tbn%3AANd9GcQFx4Kh_MBT2UxjqCMiOee8bu5Ln7P2MtHzPw&usqp=CAU - as file ./image\\dolphin\\d3ad33ee22.jpg\nSUCCESS - saved https://encrypted-tbn0.gstatic.com/images?q=tbn%3AANd9GcSIgrX0Ztu60plX2FTKxAzQfTcXYAsPkVNZ7Q&usqp=CAU - as file ./image\\dolphin\\a551f31940.jpg\nSUCCESS - saved https://encrypted-tbn0.gstatic.com/images?q=tbn%3AANd9GcSD-oCk6mz4ruJ_Us2RFHNSkfhAcb0b5cj-Gg&usqp=CAU - as file ./image\\dolphin\\4bdf7c12d2.jpg\nSUCCESS - saved https://encrypted-tbn0.gstatic.com/images?q=tbn%3AANd9GcSBoe5o5Cq6FYiuZbz-eMV2aVsVvyA52Y-cJA&usqp=CAU - as file ./image\\dolphin\\c513a9f244.jpg\nSUCCESS - saved https://encrypted-tbn0.gstatic.com/images?q=tbn%3AANd9GcRTTVs8OEIRwUAtcUWKYEyTX8IuoTJNCf5F2A&usqp=CAU - as file ./image\\dolphin\\f70dbf8df9.jpg\nSUCCESS - saved https://encrypted-tbn0.gstatic.com/images?q=tbn%3AANd9GcQaVdpOEGATBRwYt8kIGO3gQRXbkruulQsOjw&usqp=CAU - as file ./image\\dolphin\\f9a530dd05.jpg\nSUCCESS - saved https://encrypted-tbn0.gstatic.com/images?q=tbn%3AANd9GcR_rWv_Y7rJj7W7oW3ngZU3nrS44vdWwg2p0Q&usqp=CAU - as file ./image\\dolphin\\1f2485f4b9.jpg\nSUCCESS - saved https://encrypted-tbn0.gstatic.com/images?q=tbn%3AANd9GcTlCQXHk1y29HJCRKcEDZaqeeZrb2bai2G_Zw&usqp=CAU - as file ./image\\dolphin\\5226798d10.jpg\nSUCCESS - saved https://dkt6rvnu67rqj.cloudfront.net/cdn/ff/rM6TyBQEyL2xCIBdDyof3uz1HUoRg4926Ig_Y7u9Mu0/1579154768/public/styles/600x400/public/media/ca_-_en_files/1024151.jpeg?itok=3DjNAGuG - as file ./image\\dolphin\\6e2ab84ee5.jpg\nSUCCESS - saved https://encrypted-tbn0.gstatic.com/images?q=tbn%3AANd9GcT_C8MqK3zP4U1r2XV-hTFtckOJ-1SD8reROw&usqp=CAU - as file ./image\\dolphin\\bcd8e364c5.jpg\nSUCCESS - saved https://encrypted-tbn0.gstatic.com/images?q=tbn%3AANd9GcQC-iF6YkamVRo8SAvMzkq2bKoF1nkDAK61LQ&usqp=CAU - as file ./image\\dolphin\\e2cea8a0dd.jpg\nSUCCESS - saved https://encrypted-tbn0.gstatic.com/images?q=tbn%3AANd9GcTuO-6mQ83OMuP-w47b9UhQYEeXfH_DdkgOhA&usqp=CAU - as file ./image\\dolphin\\709fc96d40.jpg\nSUCCESS - saved https://encrypted-tbn0.gstatic.com/images?q=tbn%3AANd9GcSdNlgoHlCklNQq5T9z810Mu4F_iCiPssYEoQ&usqp=CAU - as file ./image\\dolphin\\b11da958e6.jpg\nSUCCESS - saved https://encrypted-tbn0.gstatic.com/images?q=tbn%3AANd9GcTW_q5ANGuyOJdqQ8WxB9xyYas7uAL_S8hh0w&usqp=CAU - as file ./image\\dolphin\\ee389096bc.jpg\nSUCCESS - saved https://encrypted-tbn0.gstatic.com/images?q=tbn%3AANd9GcRpznLaZQnJwl4S5h9ttE3tlo1XBmwacDBz3A&usqp=CAU - as file ./image\\dolphin\\2532053023.jpg\nSUCCESS - saved https://encrypted-tbn0.gstatic.com/images?q=tbn%3AANd9GcSct5QEzBhp3hSpFQuUkArkLyWlKXzFoXgoLg&usqp=CAU - as file ./image\\dolphin\\7057958ff6.jpg\nSUCCESS - saved https://encrypted-tbn0.gstatic.com/images?q=tbn%3AANd9GcRHmTJsXYCSk5VMnU1hPk7QMON8dqUCe3br1w&usqp=CAU - as file ./image\\dolphin\\afd0486312.jpg\nSUCCESS - saved https://encrypted-tbn0.gstatic.com/images?q=tbn%3AANd9GcTcBsjWm9BajJhwDvBtKVu_uYj96jGU661D_g&usqp=CAU - as file ./image\\dolphin\\a85004ae80.jpg\nSUCCESS - saved https://encrypted-tbn0.gstatic.com/images?q=tbn%3AANd9GcSeb5YKHDXOdgDn8BB9c4OLy40iZEFFYzgyRg&usqp=CAU - as file ./image\\dolphin\\9e8542547c.jpg\nSUCCESS - saved https://encrypted-tbn0.gstatic.com/images?q=tbn%3AANd9GcQYdzxYlMmU7QXE4ryZcsTejWA_GC7Lj2wz_g&usqp=CAU - as file ./image\\dolphin\\d01c74dd9a.jpg\nSUCCESS - saved https://encrypted-tbn0.gstatic.com/images?q=tbn%3AANd9GcS-JXCYzsQp5ofpmrv7d-GVA1A75npmjJqwsQ&usqp=CAU - as file ./image\\dolphin\\cc8facc8d8.jpg\nSUCCESS - saved https://encrypted-tbn0.gstatic.com/images?q=tbn%3AANd9GcQe72NyNtG6MpeJY0vyRKI4JTdeRRaPksMjzA&usqp=CAU - as file ./image\\dolphin\\543ce4f0fd.jpg\nSUCCESS - saved https://encrypted-tbn0.gstatic.com/images?q=tbn%3AANd9GcS46npwv2CxjBFNxZJnq3-952hYh5dsacYaDw&usqp=CAU - as file ./image\\dolphin\\947d15c191.jpg\nSUCCESS - saved https://encrypted-tbn0.gstatic.com/images?q=tbn%3AANd9GcRelgFBiRnkKkOmLMkf3RTv_m6wvF_sr9veww&usqp=CAU - as file ./image\\dolphin\\80f6fa33f9.jpg\nSUCCESS - saved https://encrypted-tbn0.gstatic.com/images?q=tbn%3AANd9GcQOz09wHxMI0YbPdmv0qu_AV7hAZ4wunwgmFw&usqp=CAU - as file ./image\\dolphin\\a53de6297c.jpg\nSUCCESS - saved https://encrypted-tbn0.gstatic.com/images?q=tbn%3AANd9GcTx-z40ditKXPSzOWSHVSLGWDyiTA6NXuHcrw&usqp=CAU - as file ./image\\dolphin\\00443d73b9.jpg\nSUCCESS - saved https://encrypted-tbn0.gstatic.com/images?q=tbn%3AANd9GcReQubJaKAhEoX_QlcgiGQhkfd-BufpahhEwQ&usqp=CAU - as file ./image\\dolphin\\737463cf90.jpg\nSUCCESS - saved https://i.ytimg.com/vi/MdRLVgRRce8/maxresdefault.jpg - as file ./image\\dolphin\\2d759834d5.jpg\nSUCCESS - saved https://encrypted-tbn0.gstatic.com/images?q=tbn%3AANd9GcQ2cfgsbfsx3II2T2lS7mvmK_yWRsbNhb5WMg&usqp=CAU - as file ./image\\dolphin\\926c08b444.jpg\nSUCCESS - saved https://media.greenmatters.com/brand-img/8IXxVVds0/0x0/bottlenose-dolphin-1567008498916.jpg - as file ./image\\dolphin\\abb3d36494.jpg\nSUCCESS - saved https://encrypted-tbn0.gstatic.com/images?q=tbn%3AANd9GcTMDRkdMHF2SvpGx9B4gbE-1jqiZkoyE98I9A&usqp=CAU - as file ./image\\dolphin\\d5e3b159be.jpg\nSUCCESS - saved https://static01.nyt.com/images/2020/02/12/multimedia/12xp-DOLPHINS-02/12xp-DOLPHINS-02-articleLarge.jpg?quality=75&auto=webp&disable=upscale - as file ./image\\dolphin\\73e432be6a.jpg\nSUCCESS - saved https://encrypted-tbn0.gstatic.com/images?q=tbn%3AANd9GcTSJNT-7LIPacuoE0DcMNaP5xX25_NwhXW2Iw&usqp=CAU - as file ./image\\dolphin\\4e55381977.jpg\nSUCCESS - saved https://encrypted-tbn0.gstatic.com/images?q=tbn%3AANd9GcSxmEJPB5xQW7LXbkT2QhYU_QQ34m6pvPu23Q&usqp=CAU - as file ./image\\dolphin\\5ec3d2d7a3.jpg\nSUCCESS - saved https://encrypted-tbn0.gstatic.com/images?q=tbn%3AANd9GcRFS4gXHrJOJMLyJlVENJS0sasPyfA0QLOxvQ&usqp=CAU - as file ./image\\dolphin\\1dd28258bf.jpg\nSUCCESS - saved https://encrypted-tbn0.gstatic.com/images?q=tbn%3AANd9GcTDaKu79J1OwoOOzrkW0uctKYebSL_K54JHEw&usqp=CAU - as file ./image\\dolphin\\a76da8c2cb.jpg\nSUCCESS - saved https://encrypted-tbn0.gstatic.com/images?q=tbn%3AANd9GcTOw6Bayq7-N2i0HYO1ulffNwRZonCes6DUww&usqp=CAU - as file ./image\\dolphin\\374efd2864.jpg\nSUCCESS - saved https://encrypted-tbn0.gstatic.com/images?q=tbn%3AANd9GcQ628WUkeynMYMauMSRZfUx3_iZLvje06BOcw&usqp=CAU - as file ./image\\dolphin\\7b15fcd715.jpg\nSUCCESS - saved https://encrypted-tbn0.gstatic.com/images?q=tbn%3AANd9GcQrtX_SCAjUKSE26TcQE4QubKT5Kd_jKF7Cpg&usqp=CAU - as file ./image\\dolphin\\873f6c1183.jpg\nSUCCESS - saved https://encrypted-tbn0.gstatic.com/images?q=tbn%3AANd9GcTVU_pPDMEKiCAdveHGaKLxBPGKRnkmQOd1DA&usqp=CAU - as file ./image\\dolphin\\487ad91b4f.jpg\nSUCCESS - saved https://encrypted-tbn0.gstatic.com/images?q=tbn%3AANd9GcR6t_glXH7vq8OFNufiKQ1ColPhlONbuL5wuA&usqp=CAU - as file ./image\\dolphin\\fe81dea4e2.jpg\nSUCCESS - saved https://encrypted-tbn0.gstatic.com/images?q=tbn%3AANd9GcQ51dwAWmYlKmSd25iakKunXAu1-ap1qlcEOQ&usqp=CAU - as file ./image\\dolphin\\9d43ba7d93.jpg\nSUCCESS - saved https://encrypted-tbn0.gstatic.com/images?q=tbn%3AANd9GcRVthfRTwhgVbL-s-AVtgo_CcpRVZn3i38ZqQ&usqp=CAU - as file ./image\\dolphin\\336977e8db.jpg\nSUCCESS - saved https://encrypted-tbn0.gstatic.com/images?q=tbn%3AANd9GcQz7kwAA1F0aCAz8JqqVEeXqt-JlvMMNFNCTg&usqp=CAU - as file ./image\\dolphin\\37d73fb855.jpg\nSUCCESS - saved https://encrypted-tbn0.gstatic.com/images?q=tbn%3AANd9GcQzY7gEMRTCzne3RGLYBJVvw3IM4i2LRHjqeg&usqp=CAU - as file ./image\\dolphin\\c1830deac5.jpg\nSUCCESS - saved https://encrypted-tbn0.gstatic.com/images?q=tbn%3AANd9GcQoNUrj4avLS9yYzF7HcXuP7xfPnthNyhDFhg&usqp=CAU - as file ./image\\dolphin\\32d6cbe0d2.jpg\nSUCCESS - saved https://www.sciencemag.org/sites/default/files/styles/article_main_large/public/dolphin_16x9.jpg?itok=tSqSM1gN - as file ./image\\dolphin\\364b0aa208.jpg\nSUCCESS - saved https://encrypted-tbn0.gstatic.com/images?q=tbn%3AANd9GcSghC3gXhvQA5Ci8adxvPerkWJsuIwGLfQ_9g&usqp=CAU - as file ./image\\dolphin\\7d71e579f0.jpg\nSUCCESS - saved https://encrypted-tbn0.gstatic.com/images?q=tbn%3AANd9GcQQ412bc65UMmp3CfBAJTBrSpJCQ2esqc_yaw&usqp=CAU - as file ./image\\dolphin\\acab8d51da.jpg\nSUCCESS - saved https://encrypted-tbn0.gstatic.com/images?q=tbn%3AANd9GcTCI8NOARICM5fiIzrMXymSEcVnIAhqUdkiGQ&usqp=CAU - as file ./image\\dolphin\\165880cfe5.jpg\nSUCCESS - saved https://encrypted-tbn0.gstatic.com/images?q=tbn%3AANd9GcRCUs45H7x2jWuGhqXArq7F46uPr766CEDkIQ&usqp=CAU - as file ./image\\dolphin\\2f0324d6d7.jpg\nSUCCESS - saved https://encrypted-tbn0.gstatic.com/images?q=tbn%3AANd9GcT8xgZK2XP_oitYJUak8K5YnRkjxXgmMxqc5w&usqp=CAU - as file ./image\\dolphin\\dfa5620f7a.jpg\nSUCCESS - saved https://thumbs-prod.si-cdn.com/kQA3OWarhrjzj_TCT4A7KXqCtBs=/fit-in/1600x0/https://public-media.si-cdn.com/filer/cc/0c/cc0c3d3f-30ac-4897-aa9a-a8127bd95c1c/screen_shot_2019-07-31_at_112752_am.png - as file ./image\\dolphin\\3974b4440f.jpg\nSUCCESS - saved https://encrypted-tbn0.gstatic.com/images?q=tbn%3AANd9GcQoHrHe0orSuFatF9kws12TSSj6j4oQErd5Ow&usqp=CAU - as file ./image\\dolphin\\3b9400ff75.jpg\nSUCCESS - saved https://encrypted-tbn0.gstatic.com/images?q=tbn%3AANd9GcQyC7ufyOsoa-QjDAklzAbSyZpcSamHCzh24A&usqp=CAU - as file ./image\\dolphin\\d4ba517670.jpg\nSUCCESS - saved https://encrypted-tbn0.gstatic.com/images?q=tbn%3AANd9GcQOqpkx7LsQJLEc5JsRxzemm-vEHixOPr268Q&usqp=CAU - as file ./image\\dolphin\\c7526dd618.jpg\nSUCCESS - saved https://i.guim.co.uk/img/static/sys-images/Guardian/Pix/pictures/2008/04/17/dolphin11a.jpg?width=1200&height=630&quality=85&auto=format&fit=crop&overlay-align=bottom%2Cleft&overlay-width=100p&overlay-base64=L2ltZy9zdGF0aWMvb3ZlcmxheXMvdGctZGVmYXVsdC5wbmc&enable=upscale&s=165386ce077eba2ec5adbe87f9af7769 - as file ./image\\dolphin\\f2aaece2c7.jpg\nSUCCESS - saved https://encrypted-tbn0.gstatic.com/images?q=tbn%3AANd9GcTz3q0BD64NHPnCicuxiBTT_q2eFzdpWPuNYg&usqp=CAU - as file ./image\\dolphin\\6a2b89ad3d.jpg\nSUCCESS - saved https://encrypted-tbn0.gstatic.com/images?q=tbn%3AANd9GcSfvhx1qOXONmrJQluHk9we88MKSsB8TdpSiA&usqp=CAU - as file ./image\\dolphin\\bb1b353001.jpg\nSUCCESS - saved https://encrypted-tbn0.gstatic.com/images?q=tbn%3AANd9GcTDcdyBTUA-uUHeo2g9r-jIsJgiOEk4vBW0IA&usqp=CAU - as file ./image\\dolphin\\9b9ac66f32.jpg\nSUCCESS - saved https://encrypted-tbn0.gstatic.com/images?q=tbn%3AANd9GcRm129jW8R4HLfQk1aHytOP_hUeACcak-nbrg&usqp=CAU - as file ./image\\dolphin\\88059bf9ea.jpg\nSUCCESS - saved https://i.insider.com/4ce571c1cadcbb7861080000?width=600&format=jpeg&auto=webp - as file ./image\\dolphin\\2702d88b59.jpg\nSUCCESS - saved https://encrypted-tbn0.gstatic.com/images?q=tbn%3AANd9GcQaBLhbi6RHDBycj8oCrph56LoE6hlekcbbQw&usqp=CAU - as file ./image\\dolphin\\cacf7a9bec.jpg\nSUCCESS - saved https://upload.wikimedia.org/wikipedia/commons/1/10/Tursiops_truncatus_01.jpg - as file ./image\\dolphin\\f52c2b74ed.jpg\nSUCCESS - saved https://encrypted-tbn0.gstatic.com/images?q=tbn%3AANd9GcSHmyCtC847rW2nYOe-qI3is01Eh-X2TDranQ&usqp=CAU - as file ./image\\dolphin\\a4092470f9.jpg\nSUCCESS - saved https://encrypted-tbn0.gstatic.com/images?q=tbn%3AANd9GcTiiDh63ytjfdfbLOio9HayE_2O9OFbjQVtPw&usqp=CAU - as file ./image\\dolphin\\6280b9761f.jpg\nSUCCESS - saved https://encrypted-tbn0.gstatic.com/images?q=tbn%3AANd9GcQMVT9-CJGeJYTTZr-H_DotrhTeuTirXj-ffg&usqp=CAU - as file ./image\\dolphin\\90e79169a8.jpg\nSUCCESS - saved https://encrypted-tbn0.gstatic.com/images?q=tbn%3AANd9GcQcY1rQS5VHN7PSH_OuZbJiJCZgozFL_Tga_g&usqp=CAU - as file ./image\\dolphin\\2de7151be6.jpg\nSUCCESS - saved https://ichef.bbci.co.uk/images/ic/1024x576/p068dz20.jpg - as file ./image\\dolphin\\94c84b9af0.jpg\nSUCCESS - saved https://encrypted-tbn0.gstatic.com/images?q=tbn%3AANd9GcSLmi0XqfvAh10OnRc5JfEJZEVI1j3_CZAQWg&usqp=CAU - as file ./image\\dolphin\\0ffbf672e8.jpg\nSUCCESS - saved https://encrypted-tbn0.gstatic.com/images?q=tbn%3AANd9GcRXZAOTISv9TGXAVlgxefcX2QMCeiYpy6QmQw&usqp=CAU - as file ./image\\dolphin\\3abb9d4cfa.jpg\nSUCCESS - saved https://a57.foxnews.com/static.foxnews.com/foxnews.com/content/uploads/2020/06/931/524/Dolphin-istock.jpg?ve=1&tl=1 - as file ./image\\dolphin\\160e9cd621.jpg\nSUCCESS - saved https://encrypted-tbn0.gstatic.com/images?q=tbn%3AANd9GcTHx9anQi4zoCFoL4-4HjuEmrEJgZwNswtskw&usqp=CAU - as file ./image\\dolphin\\27c0200cae.jpg\nSUCCESS - saved https://encrypted-tbn0.gstatic.com/images?q=tbn%3AANd9GcRbyQAVG-RvOIsr0ySGCuSG0JUmEVxROcKh_Q&usqp=CAU - as file ./image\\dolphin\\31d4c55670.jpg\nSUCCESS - saved https://encrypted-tbn0.gstatic.com/images?q=tbn%3AANd9GcQ3WJYUnKS2ECjLYk6lWF4d0x4W8L_gfilEmg&usqp=CAU - as file ./image\\dolphin\\e7ab53ae5e.jpg\nSUCCESS - saved https://encrypted-tbn0.gstatic.com/images?q=tbn%3AANd9GcQTfHgGCJxY1psd_kPhPDOH70upsyqFDaYJNw&usqp=CAU - as file ./image\\dolphin\\28dba6a409.jpg\nSUCCESS - saved https://encrypted-tbn0.gstatic.com/images?q=tbn%3AANd9GcRg6JrPdm7Ug4aJWsI9gkjzFVUysTzYbGrW0Q&usqp=CAU - as file ./image\\dolphin\\467b0b9fe7.jpg\nSUCCESS - saved https://encrypted-tbn0.gstatic.com/images?q=tbn%3AANd9GcSGrQP41veXO_VXHtTseVbX3wiOJfgOBmGmag&usqp=CAU - as file ./image\\dolphin\\bf9833a4bc.jpg\nSUCCESS - saved https://encrypted-tbn0.gstatic.com/images?q=tbn%3AANd9GcQpITzabFuklMp1KbBkI80iVGgsL-vIrmxpWA&usqp=CAU - as file ./image\\dolphin\\8b9cf13555.jpg\nSUCCESS - saved https://encrypted-tbn0.gstatic.com/images?q=tbn%3AANd9GcQA0SsBiKlFsu_pd-s1piq95PnI2wiqvctT3Q&usqp=CAU - as file ./image\\dolphin\\25ed34a701.jpg\nSUCCESS - saved https://encrypted-tbn0.gstatic.com/images?q=tbn%3AANd9GcSWKk4Uuz-ztGur8dpLhLhBbucm1Lawd58rBA&usqp=CAU - as file ./image\\dolphin\\15ea8721b3.jpg\nSUCCESS - saved https://encrypted-tbn0.gstatic.com/images?q=tbn%3AANd9GcRCw3XZUsx_mIFxLnytohhthngzxNWdewWHYA&usqp=CAU - as file ./image\\dolphin\\f5ecfb5ecf.jpg\nSUCCESS - saved https://encrypted-tbn0.gstatic.com/images?q=tbn%3AANd9GcSYUEcFWacuDkepmTg-AMc3xmrOA4tog3sxYg&usqp=CAU - as file ./image\\dolphin\\2fea23326d.jpg\nSUCCESS - saved https://cdn.mos.cms.futurecdn.net/YUkXFZXY3RJPhwsZ6TN243-320-80.jpeg - as file ./image\\dolphin\\710fc9978f.jpg\nSUCCESS - saved https://encrypted-tbn0.gstatic.com/images?q=tbn%3AANd9GcSjZGI9HS6vrodegqX-djs_vwINMrc6oGtd8g&usqp=CAU - as file ./image\\dolphin\\c9d75a6624.jpg\nSUCCESS - saved https://media.goeco.org/_media/media/409/12504_720_463.jpg - as file ./image\\dolphin\\ce3e043b41.jpg\nSUCCESS - saved https://encrypted-tbn0.gstatic.com/images?q=tbn%3AANd9GcRfWvsW0E6q3CsMm1-NcYTNkTZwpvKyo2fmXQ&usqp=CAU - as file ./image\\dolphin\\12553cc20c.jpg\nSUCCESS - saved https://encrypted-tbn0.gstatic.com/images?q=tbn%3AANd9GcS_WANoWynHKh4O28lo-iyNEgJ-yMMR3RaRIA&usqp=CAU - as file ./image\\dolphin\\e698febe4c.jpg\nSUCCESS - saved https://encrypted-tbn0.gstatic.com/images?q=tbn%3AANd9GcQ1P_dCmffKn4d_6dciXOzaTBoNCcelYbv7xw&usqp=CAU - as file ./image\\dolphin\\77425d6e5e.jpg\nSUCCESS - saved https://post.greatist.com/wp-content/uploads/sites/3/2020/01/327197_2200-1200x628.jpg - as file ./image\\dolphin\\b82071b1ed.jpg\nSUCCESS - saved https://encrypted-tbn0.gstatic.com/images?q=tbn%3AANd9GcRbWHOGHAzoA56VJoBST_m6_374FDeRC3LpDg&usqp=CAU - as file ./image\\dolphin\\9fcfc5e281.jpg\nSUCCESS - saved https://encrypted-tbn0.gstatic.com/images?q=tbn%3AANd9GcSfaCjBymmYDXyS0QKksI2dfJMLT2Axgxfgqw&usqp=CAU - as file ./image\\dolphin\\1c6d1fdad2.jpg\nSUCCESS - saved https://encrypted-tbn0.gstatic.com/images?q=tbn%3AANd9GcRbZ_hKmLKzjdCjd0eRyfAsyn002SxMftfmrA&usqp=CAU - as file ./image\\dolphin\\6f9b6f7003.jpg\nSUCCESS - saved https://encrypted-tbn0.gstatic.com/images?q=tbn%3AANd9GcSOHNUZuwbc_SUQ_IoA8gXtClW2IeWrlrih1Q&usqp=CAU - as file ./image\\dolphin\\6d183aaa84.jpg\nSUCCESS - saved https://encrypted-tbn0.gstatic.com/images?q=tbn%3AANd9GcSXy65-ik75X7Sw50x3uMnuJTniJsVrDpG8iQ&usqp=CAU - as file ./image\\dolphin\\4878f3dde8.jpg\nSUCCESS - saved https://www.thesun.co.uk/wp-content/uploads/2019/02/dolphin4.png - as file ./image\\dolphin\\6b96075a2a.jpg\nSUCCESS - saved https://media.wired.com/photos/5e62dc1b226bbd0009822163/2:1/w_2299,h_1149,c_limit/Science_dolphins-1202734873.jpg - as file ./image\\dolphin\\4220faaee9.jpg\nSUCCESS - saved https://encrypted-tbn0.gstatic.com/images?q=tbn%3AANd9GcQZlbf_iEpfpGFHXFF8TJNSdhUnfm4XINpVXw&usqp=CAU - as file ./image\\dolphin\\152f535b99.jpg\nSUCCESS - saved https://encrypted-tbn0.gstatic.com/images?q=tbn%3AANd9GcRs8ghGSIPnj1YfRaYUjKXQOablIfsEecZ9eQ&usqp=CAU - as file ./image\\dolphin\\76ed5ba813.jpg\nSUCCESS - saved https://encrypted-tbn0.gstatic.com/images?q=tbn%3AANd9GcSJcglymBKbsrXVl9ninXOgybDKPgZ5qoqzjQ&usqp=CAU - as file ./image\\dolphin\\452684ae30.jpg\nSUCCESS - saved https://encrypted-tbn0.gstatic.com/images?q=tbn%3AANd9GcThLP9zDYV5wtsJfNMQkNVj0m7axESJl2Shjg&usqp=CAU - as file ./image\\dolphin\\8a7737818f.jpg\nSUCCESS - saved https://encrypted-tbn0.gstatic.com/images?q=tbn%3AANd9GcRz3XS-BEwVr1_L2X2ce7aSn6usUCXKQIMsOg&usqp=CAU - as file ./image\\dolphin\\de8a8301a5.jpg\nSUCCESS - saved https://encrypted-tbn0.gstatic.com/images?q=tbn%3AANd9GcQHFL838vdTsXvtpG5arRAIoK51RLWsQYx5Hw&usqp=CAU - as file ./image\\dolphin\\54da798c75.jpg\nSUCCESS - saved https://encrypted-tbn0.gstatic.com/images?q=tbn%3AANd9GcQU-zJ_puBtbhTgGC2vO3SGmlhoPpXIs7xpDw&usqp=CAU - as file ./image\\dolphin\\dfbb82defb.jpg\nSUCCESS - saved https://encrypted-tbn0.gstatic.com/images?q=tbn%3AANd9GcTSsxxpm123JZZ477Wjr24QLLYDPjF6uJrg6Q&usqp=CAU - as file ./image\\dolphin\\ad25a82147.jpg\nSUCCESS - saved https://encrypted-tbn0.gstatic.com/images?q=tbn%3AANd9GcSqx_qAJ8KHrr5c3xj8FmMIgm_U-yyvYApw0g&usqp=CAU - as file ./image\\dolphin\\23023c2b80.jpg\nSUCCESS - saved https://encrypted-tbn0.gstatic.com/images?q=tbn%3AANd9GcRBcgCEW3zMs0H2onobsKt1ITqhU3iEFviOcQ&usqp=CAU - as file ./image\\dolphin\\1df4b2802e.jpg\n344 pictures downloaded\n"
    }
   ],
   "source": [
    "search_and_download_google_images(search_term='dolphin', driver_path=DRIVER_PATH, number_of_images=600)"
   ]
  },
  {
   "cell_type": "markdown",
   "metadata": {},
   "source": [
    "### Let's download some kitty images (I know you're excited)"
   ]
  },
  {
   "cell_type": "code",
   "execution_count": 10,
   "metadata": {
    "tags": [
     "outputPrepend"
    ]
   },
   "outputs": [
    {
     "output_type": "stream",
     "name": "stdout",
     "text": "age\\cat\\6df6f2e657.jpg\nSUCCESS - saved https://secureservercdn.net/72.167.241.134/d9c.726.myftpupload.com/wp-content/uploads/Tootles3.jpeg - as file ./image\\cat\\8bfd81943b.jpg\nSUCCESS - saved https://encrypted-tbn0.gstatic.com/images?q=tbn%3AANd9GcSPigFfT-RO7U6PSFXQM3FtuKM4sSRHQT21-g&usqp=CAU - as file ./image\\cat\\2f44f07b2b.jpg\nSUCCESS - saved https://encrypted-tbn0.gstatic.com/images?q=tbn%3AANd9GcTAyAVzvBflsZz-kInpwN-4z5InESkQhEvqQw&usqp=CAU - as file ./image\\cat\\fabd226eb2.jpg\nSUCCESS - saved https://encrypted-tbn0.gstatic.com/images?q=tbn%3AANd9GcT4_4BEcMcs6MKIbFHnlkaUQgGj2_SE8VgF4g&usqp=CAU - as file ./image\\cat\\7985359c98.jpg\nSUCCESS - saved https://encrypted-tbn0.gstatic.com/images?q=tbn%3AANd9GcR74-Z7DH1UbTmbwePmJbsopDdBl5Q5EEm2zw&usqp=CAU - as file ./image\\cat\\aa6b4ce889.jpg\nSUCCESS - saved https://i.insider.com/5aa10ca0d877e618008b4678?width=1100&format=jpeg&auto=webp - as file ./image\\cat\\b8f364ac84.jpg\nSUCCESS - saved https://encrypted-tbn0.gstatic.com/images?q=tbn%3AANd9GcRuS22qnmgwYqXyIQz1Bv5cIrItsWCXhYyDwg&usqp=CAU - as file ./image\\cat\\854f7a993b.jpg\nSUCCESS - saved https://i1.wp.com/bdn-data.s3.amazonaws.com/uploads/2020/07/IMG_4313-1.jpg?fit=879%2C1009&ssl=1 - as file ./image\\cat\\01a20b5e48.jpg\nSUCCESS - saved https://encrypted-tbn0.gstatic.com/images?q=tbn%3AANd9GcQ9MOC2T99zTTtDwvgoLf3IzFx4Or4s0dUAHw&usqp=CAU - as file ./image\\cat\\7606b619f0.jpg\nSUCCESS - saved https://encrypted-tbn0.gstatic.com/images?q=tbn%3AANd9GcR-XXQC32ekJUwyYORyUtJxFBThNviu7Nny8w&usqp=CAU - as file ./image\\cat\\1dc38680d7.jpg\nSUCCESS - saved https://encrypted-tbn0.gstatic.com/images?q=tbn%3AANd9GcTRN5UyEy5hG8tJJpJQirvHaDM9bEgrB2UXDw&usqp=CAU - as file ./image\\cat\\4e3505b014.jpg\nSUCCESS - saved https://encrypted-tbn0.gstatic.com/images?q=tbn%3AANd9GcS_qEeoiuWPhYBnTn7-F_VaqsLfRrGHg-K69Q&usqp=CAU - as file ./image\\cat\\9ac635f629.jpg\nSUCCESS - saved https://encrypted-tbn0.gstatic.com/images?q=tbn%3AANd9GcRTXmhc3JhEWaMd4Ua6e4YrZM0vZ3chCp0-sg&usqp=CAU - as file ./image\\cat\\a15bf513cb.jpg\nSUCCESS - saved https://encrypted-tbn0.gstatic.com/images?q=tbn%3AANd9GcRnUGcE8l7TvAFQeksYbbCbGcSUs8fFIEaZxg&usqp=CAU - as file ./image\\cat\\ca45f34f9b.jpg\nSUCCESS - saved https://encrypted-tbn0.gstatic.com/images?q=tbn%3AANd9GcSiQkr26zTwj3oegtlWj4771Bh1pZOeFFD95A&usqp=CAU - as file ./image\\cat\\caa9d73998.jpg\nSUCCESS - saved https://encrypted-tbn0.gstatic.com/images?q=tbn%3AANd9GcRrVaghI8eXTrelMpAycEMk46k2Sc9R3DG8sQ&usqp=CAU - as file ./image\\cat\\0e97c6ba72.jpg\nSUCCESS - saved https://encrypted-tbn0.gstatic.com/images?q=tbn%3AANd9GcRTHzmUCq5CA1Gcw1jhKS_A5Uu2VN5FessAUg&usqp=CAU - as file ./image\\cat\\0392e63670.jpg\nSUCCESS - saved https://dl5zpyw5k3jeb.cloudfront.net/photos/pets/48589036/1/?bust=1595630443&width=300 - as file ./image\\cat\\91bcc2cd49.jpg\nSUCCESS - saved https://encrypted-tbn0.gstatic.com/images?q=tbn%3AANd9GcTb9-5uPNOswg3XN-9HyVcqxo6NS8XeQ27ZPA&usqp=CAU - as file ./image\\cat\\178b6bc143.jpg\nSUCCESS - saved https://encrypted-tbn0.gstatic.com/images?q=tbn%3AANd9GcR6t64GBhqoFJuvBdcDMtCGSigo7OafYM5AxA&usqp=CAU - as file ./image\\cat\\cd44dc4c39.jpg\nSUCCESS - saved https://encrypted-tbn0.gstatic.com/images?q=tbn%3AANd9GcRy3NE_5weiJe9_LI-np_BoA4_oVjW6kQBT-w&usqp=CAU - as file ./image\\cat\\cf61bf623e.jpg\nSUCCESS - saved https://cdn.cnn.com/cnnnext/dam/assets/190517103414-01-grumpy-cat-file-restricted-super-tease.jpg - as file ./image\\cat\\35439da17a.jpg\nSUCCESS - saved https://encrypted-tbn0.gstatic.com/images?q=tbn%3AANd9GcTt40GXRF_YZvmxwiz6rIMspG5mlcwnMeVQOg&usqp=CAU - as file ./image\\cat\\4ffc5b9164.jpg\nSUCCESS - saved https://encrypted-tbn0.gstatic.com/images?q=tbn%3AANd9GcTHbd5Lbd7rmaEhvGFYVX-rpABW3oJbExZ-AQ&usqp=CAU - as file ./image\\cat\\42e28be6b5.jpg\nSUCCESS - saved https://encrypted-tbn0.gstatic.com/images?q=tbn%3AANd9GcTDdc9vuAT9XZBPV-b5iFZwl__b1sHBuvyErA&usqp=CAU - as file ./image\\cat\\921cfaf425.jpg\nSUCCESS - saved https://encrypted-tbn0.gstatic.com/images?q=tbn%3AANd9GcRMiKnzQxaVAxwB-hPEv65APpR9zbJQkgt_iw&usqp=CAU - as file ./image\\cat\\d757c17d83.jpg\nSUCCESS - saved https://encrypted-tbn0.gstatic.com/images?q=tbn%3AANd9GcRWAg3uKmgjJiYQWgrjnS8xiPjrm7AsTywOCg&usqp=CAU - as file ./image\\cat\\3a121e4693.jpg\nSUCCESS - saved https://encrypted-tbn0.gstatic.com/images?q=tbn%3AANd9GcRhFD_SJ9CgYOyPM1bUz5GkOqlR6KKz-Nnryg&usqp=CAU - as file ./image\\cat\\9fdd6f5491.jpg\nSUCCESS - saved https://ichef.bbci.co.uk/news/1024/branded_news/41CF/production/_109474861_angrycat-index-getty3-3.jpg - as file ./image\\cat\\df2c92d2be.jpg\nSUCCESS - saved https://encrypted-tbn0.gstatic.com/images?q=tbn%3AANd9GcTj1MEW7pQtw0tJE2KyQA84KJeCYqre_Zd69w&usqp=CAU - as file ./image\\cat\\b04a5a2157.jpg\nSUCCESS - saved https://encrypted-tbn0.gstatic.com/images?q=tbn%3AANd9GcQfVFrrMhA5IAU-5HCTFDzZFs7qdAHFGAXTOw&usqp=CAU - as file ./image\\cat\\00e6897f5a.jpg\nSUCCESS - saved https://encrypted-tbn0.gstatic.com/images?q=tbn%3AANd9GcSXjZw9jTuKdMm2v_JhKCJIxSpkUuA5pKAVGQ&usqp=CAU - as file ./image\\cat\\78f54bfa72.jpg\nSUCCESS - saved https://images-ra.adoptapet.com/images/Homepage-Cat-MOBILE.png - as file ./image\\cat\\5d508c0fb1.jpg\nSUCCESS - saved https://encrypted-tbn0.gstatic.com/images?q=tbn%3AANd9GcT-qMXPCDnnH3A-5rqCW9Y9A3nzuNaPoDOj6Q&usqp=CAU - as file ./image\\cat\\4f23562d5e.jpg\nSUCCESS - saved https://encrypted-tbn0.gstatic.com/images?q=tbn%3AANd9GcR1j2c90S9zIWFDS5zad7vviApeEV2d__78bQ&usqp=CAU - as file ./image\\cat\\9d30ba8374.jpg\nSUCCESS - saved https://hips.hearstapps.com/hmg-prod.s3.amazonaws.com/images/womanyellingcat-1573233850.jpg?resize=480:* - as file ./image\\cat\\6df3e519e4.jpg\nSUCCESS - saved https://encrypted-tbn0.gstatic.com/images?q=tbn%3AANd9GcRs2sAOgn5eo7h4iPnqmSDLnOrO2jQEvNMBwg&usqp=CAU - as file ./image\\cat\\b812b56917.jpg\nSUCCESS - saved https://encrypted-tbn0.gstatic.com/images?q=tbn%3AANd9GcQbxN7h4TVP7dsVAU56g5zeUSgGmdNVFEq8iQ&usqp=CAU - as file ./image\\cat\\1e313e8ae4.jpg\nSUCCESS - saved https://encrypted-tbn0.gstatic.com/images?q=tbn%3AANd9GcQ0368m9d6iodinCvX4m-Xa36ERR-QpYkdxAQ&usqp=CAU - as file ./image\\cat\\087d293433.jpg\nSUCCESS - saved https://encrypted-tbn0.gstatic.com/images?q=tbn%3AANd9GcRUeB4aArDOntl48L6LFkyWtIf4nhH0YGYqmg&usqp=CAU - as file ./image\\cat\\9545391cf2.jpg\nSUCCESS - saved https://encrypted-tbn0.gstatic.com/images?q=tbn%3AANd9GcTYOFbKElekpRgS7Fap020h1OSvfUaxYdzuLQ&usqp=CAU - as file ./image\\cat\\a89aa294ba.jpg\nSUCCESS - saved https://encrypted-tbn0.gstatic.com/images?q=tbn%3AANd9GcSQwN5-CLtOzaF5AHIkaON8pKJNID2RwqvjMw&usqp=CAU - as file ./image\\cat\\a4f2596d70.jpg\nSUCCESS - saved https://encrypted-tbn0.gstatic.com/images?q=tbn%3AANd9GcSvfNGly16z30cIqQMTm8fF2wBR7Utt8Aii5A&usqp=CAU - as file ./image\\cat\\d8469fc070.jpg\nSUCCESS - saved https://encrypted-tbn0.gstatic.com/images?q=tbn%3AANd9GcS01kzFNiWJg96r3KZXenzXY9gyU4In3zATVg&usqp=CAU - as file ./image\\cat\\8d112191f9.jpg\nSUCCESS - saved https://encrypted-tbn0.gstatic.com/images?q=tbn%3AANd9GcRVHNLuqnK_OExc1tkbKg6HpPhlINGL2MaiMA&usqp=CAU - as file ./image\\cat\\a791b13ad6.jpg\nSUCCESS - saved https://www.vmcdn.ca/f/files/sudbury/uploadedImages/news/localNews/2020/07/250720_kf_cat_tracks_sized.jpg;w=960;h=540;mode=crop - as file ./image\\cat\\615cfe922a.jpg\nSUCCESS - saved https://encrypted-tbn0.gstatic.com/images?q=tbn%3AANd9GcRdFjs7_WsIWkaIJrf6QPlbjjqtwGXEffBs7w&usqp=CAU - as file ./image\\cat\\0047b99004.jpg\nSUCCESS - saved https://encrypted-tbn0.gstatic.com/images?q=tbn%3AANd9GcSlWqnAyKIhMIdzdmnAQ_dJiqPWWAgZuSkR0Q&usqp=CAU - as file ./image\\cat\\f533d615e7.jpg\nSUCCESS - saved https://encrypted-tbn0.gstatic.com/images?q=tbn%3AANd9GcSB3G6vv-4RLPOYurfUjmWfDhoHYQLx3fSVHw&usqp=CAU - as file ./image\\cat\\c5926f95cf.jpg\nSUCCESS - saved https://encrypted-tbn0.gstatic.com/images?q=tbn%3AANd9GcQM_1XHeLu8j4leCGRGkcCUBPOL-P6bvtyEKQ&usqp=CAU - as file ./image\\cat\\f931382007.jpg\nSUCCESS - saved https://encrypted-tbn0.gstatic.com/images?q=tbn%3AANd9GcQOMp2PuOtIze95wpb072oGWDi7u2ANr4MOdw&usqp=CAU - as file ./image\\cat\\c1bbe2d5a5.jpg\nSUCCESS - saved https://encrypted-tbn0.gstatic.com/images?q=tbn%3AANd9GcSDeV3ATucgqW-gVXsLGyoL4LS01iXOfZPpWw&usqp=CAU - as file ./image\\cat\\5c5772d923.jpg\nSUCCESS - saved https://encrypted-tbn0.gstatic.com/images?q=tbn%3AANd9GcQm4ynu4EtndH4IUjLnkGkydQQeA1JKuWGY-Q&usqp=CAU - as file ./image\\cat\\154cf9b0c7.jpg\nSUCCESS - saved https://encrypted-tbn0.gstatic.com/images?q=tbn%3AANd9GcSVeZvEq0huiGtItJlGyEa7dmO9bC3riYaeWw&usqp=CAU - as file ./image\\cat\\a61d7053c0.jpg\nSUCCESS - saved https://encrypted-tbn0.gstatic.com/images?q=tbn%3AANd9GcSj17a27drp2oZgjCTRu1LHOk2u8f2YebRbLA&usqp=CAU - as file ./image\\cat\\39cf066069.jpg\nSUCCESS - saved https://cms.qz.com/wp-content/uploads/2014/12/flickr-user-cloudzilla_crop2.jpg?quality=75&strip=all&w=900&h=900&crop=1 - as file ./image\\cat\\e1187e3740.jpg\nSUCCESS - saved https://encrypted-tbn0.gstatic.com/images?q=tbn%3AANd9GcQcWB7WN63Hm9d71cd3hjcbCl43Jsdusf9qwQ&usqp=CAU - as file ./image\\cat\\960205c07d.jpg\nSUCCESS - saved https://encrypted-tbn0.gstatic.com/images?q=tbn%3AANd9GcT94rAAfZbxCAZwPNDJE-47TuhL_B4brso1cA&usqp=CAU - as file ./image\\cat\\66ef894e83.jpg\nSUCCESS - saved https://encrypted-tbn0.gstatic.com/images?q=tbn%3AANd9GcTpcGeMWdJlHvOIKX_mqrpLQIrFGLbxchZimQ&usqp=CAU - as file ./image\\cat\\586c64f6e7.jpg\nSUCCESS - saved https://encrypted-tbn0.gstatic.com/images?q=tbn%3AANd9GcSH88DkddHIAp8hQwgBkjYBmvtS5wKvrHPm0g&usqp=CAU - as file ./image\\cat\\54247a49ea.jpg\nSUCCESS - saved https://encrypted-tbn0.gstatic.com/images?q=tbn%3AANd9GcS0-qnGWdy1U8tLvJKU9b4xTUZY8DjrXd6P9w&usqp=CAU - as file ./image\\cat\\58d8c63059.jpg\nSUCCESS - saved https://encrypted-tbn0.gstatic.com/images?q=tbn%3AANd9GcSrKCtSZNQH4asbR_TsMKmcm5hu0k-JiB6Ktg&usqp=CAU - as file ./image\\cat\\a484ba720a.jpg\nSUCCESS - saved https://encrypted-tbn0.gstatic.com/images?q=tbn%3AANd9GcTfQ3VWkJpQkHnScz--L1E23yoQ0EiHZBiH5Q&usqp=CAU - as file ./image\\cat\\fb6a99a6dd.jpg\nSUCCESS - saved https://encrypted-tbn0.gstatic.com/images?q=tbn%3AANd9GcRWO_UAe27eAhTik2ggPbzKGQfuXD1oVosA_Q&usqp=CAU - as file ./image\\cat\\e2ad37a844.jpg\nSUCCESS - saved https://encrypted-tbn0.gstatic.com/images?q=tbn%3AANd9GcRjDYIGhxPQrvndoqcYfivVJ58pNBYNhcCe0A&usqp=CAU - as file ./image\\cat\\46ba7663b4.jpg\nSUCCESS - saved https://encrypted-tbn0.gstatic.com/images?q=tbn%3AANd9GcQV7U7Ne014n3cFC2i27kLE_uGkI7tA5SXP1Q&usqp=CAU - as file ./image\\cat\\36ea35f2a0.jpg\nSUCCESS - saved https://encrypted-tbn0.gstatic.com/images?q=tbn%3AANd9GcT59yT9J-JhzhL9DRfjZW6oh0CBIF30A0X-9g&usqp=CAU - as file ./image\\cat\\2fd8e1d750.jpg\nSUCCESS - saved https://encrypted-tbn0.gstatic.com/images?q=tbn%3AANd9GcTvPut4s1i7Prg9M0Z3xHbmvOvWYnSPvOI0vA&usqp=CAU - as file ./image\\cat\\833da40ea9.jpg\nSUCCESS - saved https://encrypted-tbn0.gstatic.com/images?q=tbn%3AANd9GcSosiP1qlQiC6QIe0oe1GYKa1Ye5Gs46DsQ6g&usqp=CAU - as file ./image\\cat\\00436ee451.jpg\nSUCCESS - saved https://encrypted-tbn0.gstatic.com/images?q=tbn%3AANd9GcSzDhofstGftBRmP49JVxi2pS_tn65fu41gaw&usqp=CAU - as file ./image\\cat\\733d0ed410.jpg\nSUCCESS - saved https://encrypted-tbn0.gstatic.com/images?q=tbn%3AANd9GcT4otgRRjvWeKHY8eK5rTTENaSz1aDDIr-NfA&usqp=CAU - as file ./image\\cat\\6a790719bc.jpg\nSUCCESS - saved https://encrypted-tbn0.gstatic.com/images?q=tbn%3AANd9GcS2KpIS0iQ9gfo8cq6Vur_vsN9oL6wcT0s8Nw&usqp=CAU - as file ./image\\cat\\62b6e70b7f.jpg\nSUCCESS - saved https://encrypted-tbn0.gstatic.com/images?q=tbn%3AANd9GcTqz0voSuESS3lMiVdmQC8917LynZH4v2HlsQ&usqp=CAU - as file ./image\\cat\\5527b5e5cd.jpg\nSUCCESS - saved https://encrypted-tbn0.gstatic.com/images?q=tbn%3AANd9GcTo_wxviODQYXeA1LzquZv8YVb0RI03BKPuaw&usqp=CAU - as file ./image\\cat\\b48c61669b.jpg\nSUCCESS - saved https://encrypted-tbn0.gstatic.com/images?q=tbn%3AANd9GcRPLtdBvEu6MgZJjKhTAny5IxygVXhSvKTUWQ&usqp=CAU - as file ./image\\cat\\dafd2200c9.jpg\nSUCCESS - saved https://encrypted-tbn0.gstatic.com/images?q=tbn%3AANd9GcSf8bVPK9Xb7owNSKT_Oe4zV--I3GBQHtmosA&usqp=CAU - as file ./image\\cat\\45cff97d8f.jpg\nSUCCESS - saved https://encrypted-tbn0.gstatic.com/images?q=tbn%3AANd9GcReDL4DPLakLtcA4ijvk5PKYPlCGxtDydpurQ&usqp=CAU - as file ./image\\cat\\c0eeabbe83.jpg\nSUCCESS - saved https://encrypted-tbn0.gstatic.com/images?q=tbn%3AANd9GcQ8yvgLn1UFYUEBJf9nQPDce64H4FB-VSQUbA&usqp=CAU - as file ./image\\cat\\9293137b5d.jpg\nSUCCESS - saved https://encrypted-tbn0.gstatic.com/images?q=tbn%3AANd9GcSURQuevutsR18iYz4vPq6iD1oc3IrPg5xQww&usqp=CAU - as file ./image\\cat\\c2a6087bc0.jpg\nSUCCESS - saved https://hips.hearstapps.com/hmg-prod.s3.amazonaws.com/images/large-cat-breed-1553197454.jpg?crop=1.00xw:1.00xh;0,0&resize=640:* - as file ./image\\cat\\8f1888f667.jpg\nSUCCESS - saved https://encrypted-tbn0.gstatic.com/images?q=tbn%3AANd9GcRhdNOQcS0mwp6ZIIUKin9tYYDVC6-vj6cGjA&usqp=CAU - as file ./image\\cat\\907c929ae5.jpg\nSUCCESS - saved https://encrypted-tbn0.gstatic.com/images?q=tbn%3AANd9GcQCorJ9XeA3e1_Hq-38rwxo4toJtIluOywr-g&usqp=CAU - as file ./image\\cat\\5ce7cd2fe6.jpg\nSUCCESS - saved https://encrypted-tbn0.gstatic.com/images?q=tbn%3AANd9GcRqB_EsI0KNlc9uSs078RUQ7P6Hq_vD6ToyPw&usqp=CAU - as file ./image\\cat\\f8c681385e.jpg\nSUCCESS - saved https://encrypted-tbn0.gstatic.com/images?q=tbn%3AANd9GcTXhmbFNrvkNpS2sbTqpIp7lkCs6bkkhjU5Ig&usqp=CAU - as file ./image\\cat\\c2700220f0.jpg\nSUCCESS - saved https://encrypted-tbn0.gstatic.com/images?q=tbn%3AANd9GcT705rRF7zDEs7XwTF-C-LIsLCaeRo6ph7fyA&usqp=CAU - as file ./image\\cat\\53d4920d21.jpg\nSUCCESS - saved https://encrypted-tbn0.gstatic.com/images?q=tbn%3AANd9GcRoD3ZrH7Rd5-y0pMYlj8A-jA3jOVHCXS8Vzw&usqp=CAU - as file ./image\\cat\\2c5bf1c4de.jpg\nSUCCESS - saved https://encrypted-tbn0.gstatic.com/images?q=tbn%3AANd9GcTkLwmSPqpeTrF57J0FSGhbqqUC-Z2I_pnAGg&usqp=CAU - as file ./image\\cat\\5c0fdbf883.jpg\nSUCCESS - saved https://encrypted-tbn0.gstatic.com/images?q=tbn%3AANd9GcQ1fqfWUCPMhHyk_WNKHgOuN1XGYx7JPAj5qg&usqp=CAU - as file ./image\\cat\\9aa301ec78.jpg\nSUCCESS - saved https://encrypted-tbn0.gstatic.com/images?q=tbn%3AANd9GcSCC4squwzXz2nJjoLg54HZI__bsl39JUc6NQ&usqp=CAU - as file ./image\\cat\\612c521481.jpg\nSUCCESS - saved https://www.sciencenewsforstudents.org/wp-content/uploads/2020/05/1030_LL_domestic_cats-1028x579.jpg - as file ./image\\cat\\616d8e3281.jpg\nSUCCESS - saved https://encrypted-tbn0.gstatic.com/images?q=tbn%3AANd9GcR5ytP7fC197jE-VEHCKL6ZCARcHjKDyacrrQ&usqp=CAU - as file ./image\\cat\\d17c2e718b.jpg\nSUCCESS - saved https://encrypted-tbn0.gstatic.com/images?q=tbn%3AANd9GcTeX1UjAURlvmqf4tkGWwmdMCYW0kPSi69I1g&usqp=CAU - as file ./image\\cat\\b9325940bb.jpg\nSUCCESS - saved https://encrypted-tbn0.gstatic.com/images?q=tbn%3AANd9GcTW_DC2btA1ygUJL2hDra_zpK5Wux1qHkX9xw&usqp=CAU - as file ./image\\cat\\db85eb438b.jpg\nSUCCESS - saved https://encrypted-tbn0.gstatic.com/images?q=tbn%3AANd9GcSJFhaYduP0Pd_UXLOvtoMIjlEPsXRcjhNfcw&usqp=CAU - as file ./image\\cat\\b17c84dd8e.jpg\nSUCCESS - saved https://encrypted-tbn0.gstatic.com/images?q=tbn%3AANd9GcT-XD6T3wnEgJPUXeQu-B3dEh-hZUdq5es1NA&usqp=CAU - as file ./image\\cat\\3302d5caab.jpg\nSUCCESS - saved https://encrypted-tbn0.gstatic.com/images?q=tbn%3AANd9GcSW2vRtuS-Es2bhNY_AgTav0XRKCRyswfTOlg&usqp=CAU - as file ./image\\cat\\3f9cb9fab6.jpg\nSUCCESS - saved https://encrypted-tbn0.gstatic.com/images?q=tbn%3AANd9GcTsWGCvNxUMsmwYgx8R6EQsrSOYOi4_MNBH0Q&usqp=CAU - as file ./image\\cat\\e4619d4d04.jpg\nSUCCESS - saved https://encrypted-tbn0.gstatic.com/images?q=tbn%3AANd9GcRsYhWNAjpeLDkQqN8kHHEMASvS5th6jO-vKA&usqp=CAU - as file ./image\\cat\\de5dfa2ec4.jpg\nSUCCESS - saved https://encrypted-tbn0.gstatic.com/images?q=tbn%3AANd9GcSPlLeL0dMdQRzZcTB_F41J2DK4N2FOT6JXEw&usqp=CAU - as file ./image\\cat\\532b75feb7.jpg\nSUCCESS - saved https://encrypted-tbn0.gstatic.com/images?q=tbn%3AANd9GcTZvPjD6bn4hpFk9uGfPpq_HlyA0Idy90Mwww&usqp=CAU - as file ./image\\cat\\fcab41966d.jpg\nSUCCESS - saved https://encrypted-tbn0.gstatic.com/images?q=tbn%3AANd9GcQQMlDAKuJPzQ1muFrfY1U0uuQfAc_NuTXdjA&usqp=CAU - as file ./image\\cat\\9033070298.jpg\nSUCCESS - saved https://img.etimg.com/thumb/msid-69195696,width-640,resizemode-4,imgsize-867925/tommasino.jpg - as file ./image\\cat\\d69320cc2e.jpg\nSUCCESS - saved https://encrypted-tbn0.gstatic.com/images?q=tbn%3AANd9GcQml0OPydci92u1WgB7ofEDw0gJwOsshQswGw&usqp=CAU - as file ./image\\cat\\ec65622a65.jpg\nSUCCESS - saved https://encrypted-tbn0.gstatic.com/images?q=tbn%3AANd9GcRhnHNcgNzifyDg4CEyD4NoqmFToRe6QkE1XQ&usqp=CAU - as file ./image\\cat\\0af6b2dc7e.jpg\nSUCCESS - saved https://encrypted-tbn0.gstatic.com/images?q=tbn%3AANd9GcTAqkSuLee25F03uyYG5QXYLRrqiCdemFKVEA&usqp=CAU - as file ./image\\cat\\01c66415e7.jpg\nSUCCESS - saved https://encrypted-tbn0.gstatic.com/images?q=tbn%3AANd9GcSVCl0RwIAS7us7i0RuHxg-Geczv4Bn9IpX2A&usqp=CAU - as file ./image\\cat\\d40063a5bd.jpg\nSUCCESS - saved https://encrypted-tbn0.gstatic.com/images?q=tbn%3AANd9GcSeIu1AAwxM985TpTIcUx8wCPDO4TAb0nXCbw&usqp=CAU - as file ./image\\cat\\1ff49c415b.jpg\nSUCCESS - saved https://encrypted-tbn0.gstatic.com/images?q=tbn%3AANd9GcTWwnnP6psb_IRytbt-91BevIAWlBfl2wtRdQ&usqp=CAU - as file ./image\\cat\\be75530906.jpg\nSUCCESS - saved https://encrypted-tbn0.gstatic.com/images?q=tbn%3AANd9GcQcPyWDll6TC4QGmY81jzvH8BttMPMCrgpp_Q&usqp=CAU - as file ./image\\cat\\9752977b6d.jpg\nSUCCESS - saved https://encrypted-tbn0.gstatic.com/images?q=tbn%3AANd9GcQRb2pOPVm7FEAmaoxn5iKyfJ6tV7RhOp-drQ&usqp=CAU - as file ./image\\cat\\82c5a31460.jpg\nSUCCESS - saved https://encrypted-tbn0.gstatic.com/images?q=tbn%3AANd9GcRot_P6s4deintTRoigZ_LXi9gU2IbTnDleDQ&usqp=CAU - as file ./image\\cat\\e06e7ee7b9.jpg\nSUCCESS - saved https://encrypted-tbn0.gstatic.com/images?q=tbn%3AANd9GcRgT6lX8WLLd3ji37kkpfQkXE6HYD63-1x_zQ&usqp=CAU - as file ./image\\cat\\ae328d1a04.jpg\nSUCCESS - saved https://encrypted-tbn0.gstatic.com/images?q=tbn%3AANd9GcQpxBorfhQgMwXN-RhFGGHa5uRjVND-wm3Euw&usqp=CAU - as file ./image\\cat\\df86269a4f.jpg\nSUCCESS - saved https://encrypted-tbn0.gstatic.com/images?q=tbn%3AANd9GcSuvG5jDnPsTFn4YxLx7JmguGydymwH5trZlA&usqp=CAU - as file ./image\\cat\\caa6c1fda1.jpg\nSUCCESS - saved https://www.aspca.org/sites/default/files/cat-care_general-cat-care_body1-right.jpg - as file ./image\\cat\\70418ec776.jpg\nSUCCESS - saved https://encrypted-tbn0.gstatic.com/images?q=tbn%3AANd9GcQZRm1km0XzzuPZlGERxU0G92MBlCfoHcvQcg&usqp=CAU - as file ./image\\cat\\4d89d08a37.jpg\nSUCCESS - saved https://encrypted-tbn0.gstatic.com/images?q=tbn%3AANd9GcSQgUEeUuecW2gcEIvMQKPUZXVeEvYw4LCVNA&usqp=CAU - as file ./image\\cat\\8103639170.jpg\nSUCCESS - saved https://encrypted-tbn0.gstatic.com/images?q=tbn%3AANd9GcQGWcFEgZQPxJpRJz7bgdHadb8eEO8uqK20QQ&usqp=CAU - as file ./image\\cat\\f38b170c88.jpg\nSUCCESS - saved https://encrypted-tbn0.gstatic.com/images?q=tbn%3AANd9GcSbse684Mmf5h1pliZ2hKKfVPqRXQY4rHlTIA&usqp=CAU - as file ./image\\cat\\355eaed8a7.jpg\nSUCCESS - saved https://encrypted-tbn0.gstatic.com/images?q=tbn%3AANd9GcRARyyndj1vyH8-D6E7x8uprZcpqoyojysn0A&usqp=CAU - as file ./image\\cat\\42a2484f02.jpg\nSUCCESS - saved https://encrypted-tbn0.gstatic.com/images?q=tbn%3AANd9GcTiMkVAuyc-bbrdarNdv0sHhvcy1BJc2cpcpQ&usqp=CAU - as file ./image\\cat\\408b835d42.jpg\nSUCCESS - saved https://encrypted-tbn0.gstatic.com/images?q=tbn%3AANd9GcS2hAbYj8pP-y4AHIDeTe125V3DMK4OBgKALQ&usqp=CAU - as file ./image\\cat\\9c18906c8f.jpg\nSUCCESS - saved https://encrypted-tbn0.gstatic.com/images?q=tbn%3AANd9GcQvPTw9Gr8z7FZ_4naMeZOxeHxszJvyNy9PvQ&usqp=CAU - as file ./image\\cat\\3a07d4e410.jpg\nSUCCESS - saved https://encrypted-tbn0.gstatic.com/images?q=tbn%3AANd9GcTgE_D3kkcj8qB_FSfwQ0BBEUlJkwY0jqrakA&usqp=CAU - as file ./image\\cat\\b946095332.jpg\nSUCCESS - saved https://encrypted-tbn0.gstatic.com/images?q=tbn%3AANd9GcS94-zWP-aZJ1ORpesbb-7Kw4kWpvIYilneyg&usqp=CAU - as file ./image\\cat\\de37e5020c.jpg\nSUCCESS - saved https://encrypted-tbn0.gstatic.com/images?q=tbn%3AANd9GcQIZdBhKJQB63BpNKnZWCWVLlKzNw8-kDTsPQ&usqp=CAU - as file ./image\\cat\\08a296d87c.jpg\nSUCCESS - saved https://encrypted-tbn0.gstatic.com/images?q=tbn%3AANd9GcSC5VxF1Jc96BPauP9T4buUtWm6vjUS7ex_4w&usqp=CAU - as file ./image\\cat\\41b681c888.jpg\nSUCCESS - saved https://encrypted-tbn0.gstatic.com/images?q=tbn%3AANd9GcSd74CVAZPvdZUQv2ftWd1Ywdw_YYs5yxeThQ&usqp=CAU - as file ./image\\cat\\0a2ef0ec6e.jpg\nSUCCESS - saved https://encrypted-tbn0.gstatic.com/images?q=tbn%3AANd9GcTVMwDcBqegsKhgO-FzPSYwIpYwS6cia3GhDg&usqp=CAU - as file ./image\\cat\\843d76c5b0.jpg\n310 pictures downloaded\n"
    }
   ],
   "source": [
    "search_and_download_google_images(search_term='cat', driver_path=DRIVER_PATH, number_of_images=600)"
   ]
  }
 ]
}